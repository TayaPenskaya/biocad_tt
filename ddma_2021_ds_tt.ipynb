{
 "cells": [
  {
   "cell_type": "markdown",
   "metadata": {},
   "source": [
    "## Тестовое задание на позицию Data Scientist"
   ]
  },
  {
   "cell_type": "markdown",
   "metadata": {},
   "source": [
    "### 1. Data Science \\ Data Analysis"
   ]
  },
  {
   "cell_type": "markdown",
   "metadata": {},
   "source": [
    "Необходимо построить модель, которая на основании поступающих каждую минуту данных определяет качество продукции, производимое на единице оборудования.\n",
    "\n",
    "Единица оборудования состоит из 5 одинаковых по размеру камер, в каждой камере установлено по 3 датчика температур. Также имеются данные о высоте слоя сырья и его влажности. Высота слоя и влажность измеряются при входе сырья в машину. Сырье проходит через единицу оборудования за 1 час.\n",
    "\n",
    "Данные с показателями работы оборудования содержатся в файле x_train.csv:\n",
    "\n",
    "| Название тега  | Описание тега |\n",
    "| :- | -: |\n",
    "| T_data_1_1\t| 1-й датчик в 1-й камере |\n",
    "| T_data_1_2\t| 2-й датчик в 1-й камере |\n",
    "| T_data_1_3\t| 3-й датчик в 1-й камере |\n",
    "| T_data_2_1\t| 1-й датчик во 2-й камере |\n",
    "| T_data_2_2\t| 2-й датчик во 2-й камере |\n",
    "| T_data_2_3\t| 3-й датчик во 2-й камере |\n",
    "| T_data_3_1\t| 1-й датчик в 3-й камере |\n",
    "| T_data_3_2\t| 2-й датчик в 3-й камере |\n",
    "| T_data_3_3\t| 3-й датчик в 3-й камере |\n",
    "| T_data_4_1\t| 1-й датчик в 4-й камере |\n",
    "| T_data_4_2\t| 2-й датчик в 4-й камере |\n",
    "| T_data_4_3\t| 3-й датчик в 4-й камере |\n",
    "| T_data_5_1\t| 1-й датчик в 5-й камере |\n",
    "| T_data_5_2\t| 2-й датчик в 5-й камере |\n",
    "| T_data_5_3\t| 3-й датчик в 5-й камере |\n",
    "| H_data\t| Высота слоя |\n",
    "| AH_data\t| Влажность сырья |\n",
    "\n",
    "\n",
    "Качество продукции измеряется в лаборатории по пробам, которые забираются каждый час, данные по известным анализам содержатся в файле y_train.csv. В файле указано время забора пробы, проба забирается на выходе из единицы оборудования.\n",
    "\n",
    "Вы договорились с заказчиком, что оценкой модели будет являться показатель MAE. \n",
    "\n",
    "Для оценки модели необходимо сгенерировать предсказания за период, указанный в файле x_test.csv (1184 предикта).\n",
    "\n",
    "Результатом является воспроизводимый Python код в данной тетрадке + приложенный csv файл с предсказаниями на тестовой выборке."
   ]
  },
  {
   "cell_type": "code",
   "execution_count": null,
   "metadata": {},
   "outputs": [],
   "source": [
    "### ВАШ КОД ЗДЕСЬ"
   ]
  },
  {
   "cell_type": "markdown",
   "metadata": {},
   "source": [
    "### 2. Software Engineering"
   ]
  },
  {
   "cell_type": "markdown",
   "metadata": {},
   "source": [
    "#### Напишите класс JsonTransformer для обработки входящих данных в предоставленном файле .json, приведения их к требуемому плоскому формату и сохранению в PostgreSQL\n",
    "\n",
    "Путь к файлу json -> JsonTransformer -> flat table @ PostgreSQL\n",
    "\n",
    "Вход - input_example.json\n",
    "Выход - плоская структура для записи в psql:\n",
    "\n",
    "`` \n",
    "[{\n",
    " data_id:\"266\",\n",
    " data_name:\"v.2\",\n",
    " data_sellerId:\"355\",\n",
    " statuses_id:\"1766\",\n",
    " statuses_name:\"КС: 10%\",\n",
    " statuses_amount\"100\",\n",
    " statuses_actionBaseId:\"266\"},\n",
    " ...]\n",
    "``\n",
    "\n",
    "(1 строка = 1 элемент внутри ^statuses, statuses_id как уникальный ключ)"
   ]
  },
  {
   "cell_type": "code",
   "execution_count": null,
   "metadata": {},
   "outputs": [],
   "source": [
    "# \"скелет\" требуемого класса на Python\n",
    "import abc\n",
    "import json\n",
    "\n",
    "\n",
    "class BaseJsonTransformer(abc.ABC):\n",
    "    def __init__(self, json_file_path):\n",
    "        self.json_file_path = json_file_path\n",
    "\n",
    "    def read_json(self):\n",
    "        with open(self.json_file_path, 'r') as f:\n",
    "            return json.load(f)\n",
    "\n",
    "    @abc.abstractmethod\n",
    "    def transform_json(self, json_to_transform=None):\n",
    "        return\n",
    "\n",
    "    @staticmethod\n",
    "    def write_to_psql(psql_address):\n",
    "        return"
   ]
  },
  {
   "cell_type": "code",
   "execution_count": null,
   "metadata": {},
   "outputs": [],
   "source": [
    "### ВАШ КОД ЗДЕСЬ"
   ]
  },
  {
   "cell_type": "markdown",
   "metadata": {},
   "source": [
    "### 3. Data Engineering \\ Архитектура"
   ]
  },
  {
   "cell_type": "markdown",
   "metadata": {},
   "source": [
    "*Ситуация*:\n",
    "- На удалённом сервере есть папка с csv файлами. \n",
    "- 1 раз в час в папку поступает новый csv файл (с данными за последний час). \n",
    "- В названии каждого файла содержится timestamp, указывающий время обновления файла.\n",
    "- Файл может содержать ряд неточностей, поэтому каждый новый файл требует обработки.\n",
    "\n",
    "*Задача*:\n",
    "- при появлении нового csv файла - в течение 60 секунд запускать его обработку\n",
    "- по итогу обработки - складывать получившийся результат в PostgreSQL\n",
    "- весь процесс - мониторить своевременность и успешность обработок\n",
    "\n",
    "\n",
    "##### Опишите архитектуру сбора и обработки для решения поставленной задачи:\n",
    "- 150-200 слов - достаточно\n",
    "- описание конкретных инструментов - приветствуется\n",
    "- при желании - можно описать всё схемой с минимальными комментариями "
   ]
  },
  {
   "cell_type": "code",
   "execution_count": null,
   "metadata": {},
   "outputs": [],
   "source": [
    "### ВАШ ОТВЕТ ЗДЕСЬ"
   ]
  }
 ],
 "metadata": {
  "kernelspec": {
   "display_name": "Python 3",
   "language": "python",
   "name": "python3"
  },
  "language_info": {
   "codemirror_mode": {
    "name": "ipython",
    "version": 3
   },
   "file_extension": ".py",
   "mimetype": "text/x-python",
   "name": "python",
   "nbconvert_exporter": "python",
   "pygments_lexer": "ipython3",
   "version": "3.8.3"
  },
  "toc": {
   "base_numbering": 1,
   "nav_menu": {},
   "number_sections": true,
   "sideBar": true,
   "skip_h1_title": false,
   "title_cell": "Table of Contents",
   "title_sidebar": "Contents",
   "toc_cell": false,
   "toc_position": {},
   "toc_section_display": true,
   "toc_window_display": false
  }
 },
 "nbformat": 4,
 "nbformat_minor": 4
}
